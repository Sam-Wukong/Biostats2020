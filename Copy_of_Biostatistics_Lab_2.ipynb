{
  "nbformat": 4,
  "nbformat_minor": 0,
  "metadata": {
    "colab": {
      "name": "Copy of Biostatistics Lab 2",
      "provenance": [],
      "collapsed_sections": []
    },
    "kernelspec": {
      "name": "python3",
      "display_name": "Python 3"
    }
  },
  "cells": [
    {
      "cell_type": "markdown",
      "metadata": {
        "id": "_ci_ecL_JMxL"
      },
      "source": [
        "# Lab 2\n",
        "\n",
        "# Turning biology into mathematics\n",
        "\n",
        "In this lab demonstration we will access the uniprot database and create a new dataset. Our dataset will consist of four thousand proteins, half associated with the keyword antibody and the other half not related to the keyword. The proteins are represented by their primary structure sequence of amino acids, in other words each protein is a string of letters representing each amino acid in the sequence. (Don't worry if these ideas are new to you.)"
      ]
    },
    {
      "cell_type": "markdown",
      "metadata": {
        "id": "63dzE6XUEJvX"
      },
      "source": [
        "The one-letter and three-letter codes for amino acids used in the knowledgebase are those adopted by the commission on Biochemical Nomenclature of the IUPAC-IUB\n",
        "\n",
        "One-letter code\tThree-letter code\tAmino-acid name\n",
        "\n",
        "A\tAla\t  Alanine\n",
        "\n",
        "R\tArg\t  Arginine\n",
        "\n",
        "N\tAsn\t  Asparagine\n",
        "\n",
        "D\tAsp\t  Aspartic acid\n",
        "\n",
        "C\tCys\t  Cysteine\n",
        "\n",
        "Q\tGln\t  Glutamine\n",
        "\n",
        "E\tGlu\t  Glutamic acid\n",
        "\n",
        "G\tGly\t  Glycine\n",
        "\n",
        "H\tHis\t  Histidine\n",
        "\n",
        "I\tIle\t  Isoleucine\n",
        "\n",
        "L\tLeu\t  Leucine\n",
        "\n",
        "K\tLys\t  Lysine\n",
        "\n",
        "M\tMet\t  Methionine\n",
        "\n",
        "F\tPhe\t  Phenylalanine\n",
        "\n",
        "P\tPro\t  Proline\n",
        "\n",
        "S\tSer\t  Serine\n",
        "\n",
        "T\tThr\t  Threonine\n",
        "\n",
        "W\tTrp\t  Tryptophan\n",
        "\n",
        "Y\tTyr\t  Tyrosine\n",
        "\n",
        "V\tVal\t  Valine\n",
        "\n",
        "O\tPyl\t  Pyrrolysine\n",
        "\n",
        "U\tSec\t  Selenocysteine\n",
        "\n",
        "B\tAsx\t  Aspartic acid or Asparagine\n",
        "\n",
        "Z\tGlx\t  Glutamic acid or Glutamine\n",
        "\n",
        "X\tXaa\t  Any amino acid\n"
      ]
    },
    {
      "cell_type": "code",
      "metadata": {
        "id": "WLN-5CsQqtgA",
        "colab": {
          "base_uri": "https://localhost:8080/"
        },
        "outputId": "4aeaa3d5-ddb1-4496-f377-79f046f4741b"
      },
      "source": [
        "!pip install git+https://github.com/williamedwardhahn/mpcr\n",
        "from mpcr import *"
      ],
      "execution_count": 2,
      "outputs": [
        {
          "output_type": "stream",
          "text": [
            "Collecting git+https://github.com/williamedwardhahn/mpcr\n",
            "  Cloning https://github.com/williamedwardhahn/mpcr to /tmp/pip-req-build-0kqpox9n\n",
            "  Running command git clone -q https://github.com/williamedwardhahn/mpcr /tmp/pip-req-build-0kqpox9n\n",
            "Building wheels for collected packages: ImportMPCR\n",
            "  Building wheel for ImportMPCR (setup.py) ... \u001b[?25l\u001b[?25hdone\n",
            "  Created wheel for ImportMPCR: filename=ImportMPCR-0.0.1-cp36-none-any.whl size=7322 sha256=900b850f2af28c0c5d02dc350fe009e75a7928f4d86b5912b5b663129fe2acb3\n",
            "  Stored in directory: /tmp/pip-ephem-wheel-cache-za4gbx4e/wheels/89/93/47/ef43fe80a5b823a05d8dcca5ed1581f4fcdacf69b27110603f\n",
            "Successfully built ImportMPCR\n",
            "Installing collected packages: ImportMPCR\n",
            "Successfully installed ImportMPCR-0.0.1\n",
            "[nltk_data] Downloading package punkt to /root/nltk_data...\n",
            "[nltk_data]   Unzipping tokenizers/punkt.zip.\n"
          ],
          "name": "stdout"
        }
      ]
    },
    {
      "cell_type": "code",
      "metadata": {
        "id": "IyLwBAXUWRuN"
      },
      "source": [
        "# This code will create a dataset from the uniprot database\n",
        "X, Y = get_uniprot_data('=antibody', '!antibody', 2000)"
      ],
      "execution_count": 3,
      "outputs": []
    },
    {
      "cell_type": "code",
      "metadata": {
        "id": "HzQ0DhBza2Wb"
      },
      "source": [
        "number_X = len(X)\n",
        "number_Y = len(Y)"
      ],
      "execution_count": 5,
      "outputs": []
    },
    {
      "cell_type": "code",
      "metadata": {
        "id": "JgEgYYfpa26y",
        "colab": {
          "base_uri": "https://localhost:8080/"
        },
        "outputId": "9d758883-9192-40a0-a1ec-8447a94886bf"
      },
      "source": [
        "print(number_X)\n",
        "print(number_Y) #there are 2000 antibodies and 2000 non-antibodies in the dataset"
      ],
      "execution_count": 6,
      "outputs": [
        {
          "output_type": "stream",
          "text": [
            "2000\n",
            "2000\n"
          ],
          "name": "stdout"
        }
      ]
    },
    {
      "cell_type": "code",
      "metadata": {
        "id": "XR4m4PQYOzL8",
        "colab": {
          "base_uri": "https://localhost:8080/",
          "height": 124
        },
        "outputId": "bf5801a7-170d-4111-c10e-508c89e3ee06"
      },
      "source": [
        "X[92] #Amino acid sequence of the first protein on the list of proteins associated with 'antibody'\n",
        "#len(X[92])"
      ],
      "execution_count": 7,
      "outputs": [
        {
          "output_type": "execute_result",
          "data": {
            "application/vnd.google.colaboratory.intrinsic+json": {
              "type": "string"
            },
            "text/plain": [
              "'mkeqpvlerlqsqkswikgvfdkrecstiipssknphrctpvcqvcqnlircycgrligdhagidyswtisaakgkeseqwsvekhttksptdtfgtinfqdgehthhakyirtsydtkldhllhlmlkewkmelpklvisvhggiqnftmpskfkeifsqglvkaaettgawiitegintgvskhvgdalkshsshslrkiwtvgippwgvienqrdligkdvvclyqtldnplsklttlnsmhshfilsddgtvgkygnemklrrnlekylslqkihcrsrqgvpvvglvveggpnvilsvwetvkdkdpvvvcegtgraadllafthkhladegmlrpqvkeeiicmiqntfnfslkqskhlfqilmecmvhrdcitifdadseeqqdldlailtallkgtnlsaseqlnlamawdrvdiakkhiliyeqhwkpdaleqamsdalvmdrvdfvkllieygvnlhrfltiprleelyntkqgptntllhhlvqdvkqhtllsgyritlidiglvveyligrayrsnytrkhfralynnlyrkykhqrhssgnrnesaestlhsqfirtaqpykfkeksivlhksrkkskeqnvsddpestgflypyndllvwavlmkrqkmamffwqhgeeatvkaviacilyramaheakeshmvddaseelknyskqfgqlaldllekafkqnermamtlltyelrnwsnstclklavsgglrpfvshtctqmlltdmwmgrlkmrknswlkiiisiilpptiltlefkskaemshvpqsqdfqfmwyysdqnassskesasvkeydlerghdekldenqhfglesghqhlpwtrkvyefysapivkfwfytmaylaflmlftytvlvemqpqpsvqewlvsiyiftnaievvreicisepgkftqkvkvwiseywnltetvaiglfsagfvlrwgdppfhtagrliycidiifwfsrlldffavnqhagpyvtmiakmtanmfyiviimaivllsfgvarkailspkeppswslardivfepywmiygevyageidvcssqpscppgsfltpflqavylfvqyiimvnlliaffnnvyldmesisnnlwkynryryimtyhekpwlppplillshvglllrrlcchraphdqeegdvglklylskedlkklhdfeeqcvekyfhekmedvncsceerirvtservtemyfqlkemnekvsfikdsllsldsqvghlqdlsaltvdtlkvlsavdtlqedeallakrkhstckklphswsnvicaevlgsmeiagekkyqyysmpssllrslaggrhpprvqrgalleitnskreatnvrndqerqetqssivvsgvspnrqahskygqfllvpsnlkrvpfsaetvlplsrpsvpdvlateqdiqtevlvhltgqtpvvsdwasvdepkekhepiahlldgqdkaeqvlptlsctpepmtmssplsqakimqtgggyvnwafsegdetgvfsikkkwqtclpstcdsdssrseqhqkqaqdsslsdnstrsaqssecsevgpwlqpntsfwinplrryrpfarshsfrfhkeeklmkickiknlsgsseigqgawvkakmltkdrrlskkkkntqglqvpiitvnacsqsdqlnpepgensiseeeysknwftvskfshtgvepyihqkmktkeigqcaiqisdylkqsqedlsknslwnsrstnlnrnsllkssigvdkisaslkspqephhhysaiernnlmrlsqtipftpvqlfageeitvyrleessplnldksmsswsqrgraamiqvlsreemdgglrkamrvvstwseddilkpgqvfivksflpevvrtwhkifqestvlhlclreiqqqraaqkliytfnqvkpqtipytprflevfliychsanqwltiekymtgefrkynnnngdeitptntleelmlafshwtyeytrgellvldlqgvgenltdpsvikpevkqsrgmvfgpanlgedairnfiakhhcnsccrklklpdlkrndysperinstfgleikiesaeepparetgrnspeddmql'"
            ]
          },
          "metadata": {
            "tags": []
          },
          "execution_count": 7
        }
      ]
    },
    {
      "cell_type": "markdown",
      "metadata": {
        "id": "LnQ7dtWpW4Dm"
      },
      "source": [
        "Turn protein strings of letters into vectors of numbers:"
      ]
    },
    {
      "cell_type": "code",
      "metadata": {
        "id": "PUxGK7R7WRw_"
      },
      "source": [
        "def process_strings(c):\n",
        "    '''Takes in a list of sequences 'c' and turns each one\n",
        "       into a list of numbers.'''\n",
        "       \n",
        "    X = []\n",
        "            \n",
        "    for  m, seq in enumerate(c):\n",
        "        x = [] \n",
        "        for letter in seq:\n",
        "            x.append(max(ord(letter)-97, 0)) #converts to unicode and subtracts 97. appends to the array zero or the subtracted unicode value based on whichever is max\n",
        "        \n",
        "        X.append(x)\n",
        "        \n",
        "    return X"
      ],
      "execution_count": 9,
      "outputs": []
    },
    {
      "cell_type": "code",
      "metadata": {
        "id": "xoq13cTkWRzU"
      },
      "source": [
        "X = process_strings(X)\n",
        "Y = process_strings(Y)"
      ],
      "execution_count": 10,
      "outputs": []
    },
    {
      "cell_type": "code",
      "metadata": {
        "id": "YpX1IK95WR2E",
        "colab": {
          "base_uri": "https://localhost:8080/"
        },
        "outputId": "67412490-14d5-4c7f-b47a-b3267e6590a2"
      },
      "source": [
        "print(X[1]) #shows the unicode value of an amino acid sequence of an antibody protein"
      ],
      "execution_count": 11,
      "outputs": [
        {
          "output_type": "stream",
          "text": [
            "[12, 4, 18, 6, 19, 18, 18, 15, 16, 15, 15, 16, 11, 3, 15, 11, 3, 0, 5, 15, 16, 10, 6, 11, 4, 15, 6, 3, 8, 0, 21, 11, 21, 11, 24, 5, 11, 5, 21, 11, 0, 21, 6, 11, 22, 18, 19, 21, 10, 19, 10, 17, 3, 19, 21, 10, 6, 24, 5, 11, 0, 6, 6, 3, 12, 21, 22, 22, 15, 21, 6, 0, 18, 11, 5, 0, 18, 13, 21, 6, 18, 6, 7, 5, 8, 6, 11, 0, 6, 18, 6, 0, 0, 19, 6, 8, 18, 21, 18, 0, 24, 4, 11, 13, 6, 11, 5, 18, 21, 11, 12, 11, 0, 22, 8, 5, 11, 15, 8, 24, 8, 0, 6, 16, 21, 19, 19, 12, 15, 4, 24, 11, 17, 10, 17, 5, 6, 6, 8, 17, 8, 15, 8, 8, 11, 0, 21, 11, 24, 11, 5, 8, 24, 8, 5, 19, 10, 8, 18, 21, 3, 12, 24, 0, 6, 0, 8, 5, 8, 16, 16, 18, 11, 7, 11, 3, 11, 24, 11, 0, 8, 21, 6, 11, 11, 0, 8, 19, 0, 21, 24, 19, 21, 0, 6, 6, 11, 0, 0, 21, 8, 24, 19, 3, 0, 11, 16, 19, 11, 8, 12, 11, 8, 6, 0, 11, 19, 11, 12, 6, 24, 18, 5, 0, 0, 21, 6, 6, 12, 4, 6, 11, 10, 4, 10, 24, 5, 11, 0, 11, 0, 18, 13, 17, 18, 4, 13, 18, 18, 2, 6, 11, 15, 17, 4, 3, 0, 5, 7, 8, 5, 17, 3, 15, 11, 19, 18, 3, 11, 15, 22, 15, 6, 21, 11, 5, 6, 12, 18, 8, 15, 18, 11, 22, 24, 22, 2, 19, 3, 16, 21, 8, 21, 16, 17, 19, 11, 0, 0, 10, 13, 11, 18, 7, 0, 10, 6, 6, 0, 11, 12, 0, 0, 24, 11, 10, 21, 11, 15, 11, 5, 8, 12, 21, 5, 15, 6, 12, 21, 18, 17, 8, 11, 5, 15, 3, 16, 21, 0, 2, 0, 3, 15, 4, 8, 2, 16, 10, 8, 2, 18, 13, 15, 18, 6, 2, 18, 3, 8, 0, 24, 15, 10, 11, 21, 11, 4, 11, 11, 15, 19, 6, 11, 17, 6, 11, 12, 12, 0, 21, 12, 21, 0, 0, 11, 12, 18, 18, 11, 19, 18, 8, 5, 13, 18, 0, 18, 19, 8, 5, 19, 12, 3, 11, 22, 13, 7, 11, 17, 15, 17, 0, 18, 4, 10, 4, 11, 12, 8, 21, 6, 17, 21, 5, 21, 11, 11, 11, 21, 11, 21, 18, 8, 11, 22, 8, 15, 21, 21, 16, 0, 18, 16, 6, 6, 16, 11, 5, 8, 24, 8, 16, 18, 8, 18, 18, 24, 11, 16, 15, 15, 21, 0, 21, 21, 5, 8, 12, 6, 2, 5, 22, 10, 17, 19, 13, 4, 10, 6, 0, 5, 22, 6, 11, 8, 18, 6, 11, 11, 11, 6, 11, 21, 17, 11, 21, 11, 3, 5, 8, 24, 21, 16, 15, 17, 2, 3, 16, 15, 3, 4, 17, 15, 21, 11, 21, 10, 18, 8, 7, 24, 11, 24, 5, 18, 12, 8, 11, 18, 19, 21, 19, 11, 8, 19, 21, 18, 19, 21, 18, 22, 5, 19, 4, 15, 15, 18, 10, 4, 12, 21, 18, 7, 11, 19, 22, 5, 19, 17, 7, 3, 15, 21, 21, 16, 10, 4, 16, 0, 15, 15, 0, 0, 15, 11, 18, 11, 19, 11, 18, 16, 13, 6, 12, 15, 4, 0, 18, 18, 18, 18, 18, 21, 16, 5, 4, 12, 21, 16, 4, 13, 19, 18, 10, 19, 7, 18, 2, 3, 12, 19, 15, 10, 16, 18, 10, 21, 21, 10, 0, 8, 11, 22, 11, 2, 6, 8, 16, 4, 10, 6, 10, 4, 4, 11, 15, 0, 17, 0, 4, 0, 8, 8, 21, 18, 11, 4, 4, 13, 15, 11, 21, 10, 19, 11, 11, 3, 21, 13, 11, 8, 5, 2, 21, 18, 2, 0, 8, 5, 8, 22, 6, 24, 5, 0]\n"
          ],
          "name": "stdout"
        }
      ]
    },
    {
      "cell_type": "code",
      "metadata": {
        "id": "B67ed9PJgM8e",
        "colab": {
          "base_uri": "https://localhost:8080/"
        },
        "outputId": "aad825b4-f3ce-45a3-ffcf-2e661d008b20"
      },
      "source": [
        "print(Y[0]) #shows the unicode value of an amino acid sequence of a non-antibody (protein sizes vary in length so the sequences maybe longer or shorter depending on it)"
      ],
      "execution_count": 12,
      "outputs": [
        {
          "output_type": "stream",
          "text": [
            "[12, 4, 0, 11, 21, 24, 19, 5, 11, 11, 21, 6, 19, 11, 6, 8, 8, 5, 5, 18, 8, 5, 5, 17, 3, 15, 15, 17, 12, 8, 10]\n"
          ],
          "name": "stdout"
        }
      ]
    },
    {
      "cell_type": "code",
      "metadata": {
        "id": "o3cxGLn-gPV8",
        "colab": {
          "base_uri": "https://localhost:8080/",
          "height": 388
        },
        "outputId": "edb7097b-6621-4a40-cabb-d788a482785a"
      },
      "source": [
        "plt.hist(X[0],25) #plots the composition of amino acids converted in unicodes in the protein as a histogram"
      ],
      "execution_count": 14,
      "outputs": [
        {
          "output_type": "execute_result",
          "data": {
            "text/plain": [
              "(array([109.,   0.,   8.,  70., 139.,  38.,  34.,  11.,  49.,   0.,  75.,\n",
              "        106.,  16.,  31.,   0., 104.,  31.,  29., 144.,  61.,   0.,  79.,\n",
              "          4.,   0.,  25.]),\n",
              " array([ 0.  ,  0.96,  1.92,  2.88,  3.84,  4.8 ,  5.76,  6.72,  7.68,\n",
              "         8.64,  9.6 , 10.56, 11.52, 12.48, 13.44, 14.4 , 15.36, 16.32,\n",
              "        17.28, 18.24, 19.2 , 20.16, 21.12, 22.08, 23.04, 24.  ]),\n",
              " <a list of 25 Patch objects>)"
            ]
          },
          "metadata": {
            "tags": []
          },
          "execution_count": 14
        },
        {
          "output_type": "display_data",
          "data": {
            "image/png": "[encoded data removed]",
            "text/plain": [
              "<Figure size 432x288 with 1 Axes>"
            ]
          },
          "metadata": {
            "tags": [],
            "needs_background": "light"
          }
        }
      ]
    },
    {
      "cell_type": "code",
      "metadata": {
        "id": "ucN9VoYyhg7G",
        "colab": {
          "base_uri": "https://localhost:8080/",
          "height": 370
        },
        "outputId": "8508425a-0fc7-4436-f928-ad9af10d02ef"
      },
      "source": [
        "plt.hist(Y[0],25) #plots the composition of amino acids in the antibody as a histogram"
      ],
      "execution_count": 16,
      "outputs": [
        {
          "output_type": "execute_result",
          "data": {
            "text/plain": [
              "(array([1., 0., 0., 1., 1., 5., 2., 0., 4., 0., 1., 4., 2., 0., 0., 2., 0.,\n",
              "        2., 1., 2., 0., 2., 0., 0., 1.]),\n",
              " array([ 0.  ,  0.96,  1.92,  2.88,  3.84,  4.8 ,  5.76,  6.72,  7.68,\n",
              "         8.64,  9.6 , 10.56, 11.52, 12.48, 13.44, 14.4 , 15.36, 16.32,\n",
              "        17.28, 18.24, 19.2 , 20.16, 21.12, 22.08, 23.04, 24.  ]),\n",
              " <a list of 25 Patch objects>)"
            ]
          },
          "metadata": {
            "tags": []
          },
          "execution_count": 16
        },
        {
          "output_type": "display_data",
          "data": {
            "image/png": "[encoded data removed]",
            "text/plain": [
              "<Figure size 432x288 with 1 Axes>"
            ]
          },
          "metadata": {
            "tags": [],
            "needs_background": "light"
          }
        }
      ]
    },
    {
      "cell_type": "code",
      "metadata": {
        "id": "MPaQ44GZhivP",
        "colab": {
          "base_uri": "https://localhost:8080/"
        },
        "outputId": "b26bab81-7642-4246-f7fb-358abee1137f"
      },
      "source": [
        "np.mean(X[0]),np.std(X[0]) #meaningful? this is not meaningful"
      ],
      "execution_count": 17,
      "outputs": [
        {
          "output_type": "execute_result",
          "data": {
            "text/plain": [
              "(11.00859845227859, 6.89123922101607)"
            ]
          },
          "metadata": {
            "tags": []
          },
          "execution_count": 17
        }
      ]
    },
    {
      "cell_type": "code",
      "metadata": {
        "id": "N-6OHX6ZhmjP",
        "colab": {
          "base_uri": "https://localhost:8080/"
        },
        "outputId": "e5d6b4b2-7cc6-4724-b023-023ec7d017d7"
      },
      "source": [
        "np.array(X[0]).shape"
      ],
      "execution_count": 18,
      "outputs": [
        {
          "output_type": "execute_result",
          "data": {
            "text/plain": [
              "(1163,)"
            ]
          },
          "metadata": {
            "tags": []
          },
          "execution_count": 18
        }
      ]
    },
    {
      "cell_type": "markdown",
      "metadata": {
        "id": "3nxa8rTgXL-k"
      },
      "source": [
        "Find lengths of all proteins:"
      ]
    },
    {
      "cell_type": "code",
      "metadata": {
        "id": "-B1LbuuDWR9Q"
      },
      "source": [
        "X_lengths = [len(s) for s in X] #list of all protein length\n",
        "Y_lengths = [len(s) for s in Y] #list of all antibody lengths"
      ],
      "execution_count": 19,
      "outputs": []
    },
    {
      "cell_type": "code",
      "metadata": {
        "id": "bdgz5NgUQ9Te",
        "colab": {
          "base_uri": "https://localhost:8080/"
        },
        "outputId": "8b925844-57fe-45d5-c84c-398f19d7b455"
      },
      "source": [
        "np.max(X_lengths) #finds the antibody with the largest amino acid sequence"
      ],
      "execution_count": 20,
      "outputs": [
        {
          "output_type": "execute_result",
          "data": {
            "text/plain": [
              "5654"
            ]
          },
          "metadata": {
            "tags": []
          },
          "execution_count": 20
        }
      ]
    },
    {
      "cell_type": "code",
      "metadata": {
        "id": "TyIC4h17_1Ya",
        "colab": {
          "base_uri": "https://localhost:8080/"
        },
        "outputId": "298b78d6-51fe-4f22-bd10-c52048e39cf3"
      },
      "source": [
        "np.max(Y_lengths) #finds the largest non-antibody protein"
      ],
      "execution_count": 21,
      "outputs": [
        {
          "output_type": "execute_result",
          "data": {
            "text/plain": [
              "6631"
            ]
          },
          "metadata": {
            "tags": []
          },
          "execution_count": 21
        }
      ]
    },
    {
      "cell_type": "code",
      "metadata": {
        "id": "SfMLFv6FmcST",
        "colab": {
          "base_uri": "https://localhost:8080/"
        },
        "outputId": "c8b1788d-ac93-4e8c-9a48-c692d9da9706"
      },
      "source": [
        "np.min(X_lengths) #shortest antibody"
      ],
      "execution_count": 22,
      "outputs": [
        {
          "output_type": "execute_result",
          "data": {
            "text/plain": [
              "5"
            ]
          },
          "metadata": {
            "tags": []
          },
          "execution_count": 22
        }
      ]
    },
    {
      "cell_type": "code",
      "metadata": {
        "id": "T1whnTfDmci_",
        "colab": {
          "base_uri": "https://localhost:8080/"
        },
        "outputId": "e863977d-4852-4d05-a660-49943c18d211"
      },
      "source": [
        "np.min(Y_lengths) #shortest non-anitbody"
      ],
      "execution_count": 23,
      "outputs": [
        {
          "output_type": "execute_result",
          "data": {
            "text/plain": [
              "6"
            ]
          },
          "metadata": {
            "tags": []
          },
          "execution_count": 23
        }
      ]
    },
    {
      "cell_type": "code",
      "metadata": {
        "id": "sS2oMAefLb6G",
        "colab": {
          "base_uri": "https://localhost:8080/",
          "height": 265
        },
        "outputId": "676f0ed4-e6eb-4814-bac8-9bbfa129d764"
      },
      "source": [
        "plt.hist(X_lengths,bins=1000,range=(0,5000)); #plots histogram of the protein lengths in the database"
      ],
      "execution_count": 24,
      "outputs": [
        {
          "output_type": "display_data",
          "data": {
            "image/png": "[encoded data removed]",
            "text/plain": [
              "<Figure size 432x288 with 1 Axes>"
            ]
          },
          "metadata": {
            "tags": [],
            "needs_background": "light"
          }
        }
      ]
    },
    {
      "cell_type": "code",
      "metadata": {
        "id": "_rucaC5TLlYb",
        "colab": {
          "base_uri": "https://localhost:8080/",
          "height": 265
        },
        "outputId": "3ba6b963-e969-4c85-84aa-917fccd920cd"
      },
      "source": [
        "plt.hist(Y_lengths,bins=1000,range=(0,5000));  #plots histogram of the non-antibody lengths in the database"
      ],
      "execution_count": null,
      "outputs": [
        {
          "output_type": "display_data",
          "data": {
            "image/png": "[encoded data removed]",
            "text/plain": [
              "<Figure size 432x288 with 1 Axes>"
            ]
          },
          "metadata": {
            "tags": [],
            "needs_background": "light"
          }
        }
      ]
    },
    {
      "cell_type": "code",
      "metadata": {
        "id": "4i_d_oSLMVDY"
      },
      "source": [
        ""
      ],
      "execution_count": null,
      "outputs": []
    },
    {
      "cell_type": "code",
      "metadata": {
        "id": "2gddyFI1BQsy"
      },
      "source": [
        ""
      ],
      "execution_count": null,
      "outputs": []
    },
    {
      "cell_type": "code",
      "metadata": {
        "id": "zKzosiFFBWFE"
      },
      "source": [
        ""
      ],
      "execution_count": null,
      "outputs": []
    }
  ]
}